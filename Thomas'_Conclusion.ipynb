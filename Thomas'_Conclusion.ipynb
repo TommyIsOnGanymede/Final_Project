{
 "cells": [
  {
   "cell_type": "markdown",
   "id": "eb2a3ecf-d8de-45d0-b42d-4ebb47889461",
   "metadata": {},
   "source": [
    "# Thomas' Conclusion"
   ]
  },
  {
   "cell_type": "markdown",
   "id": "ce3c7f74-d2eb-41ec-93bc-02da14973051",
   "metadata": {},
   "source": [
    "### In order to determine the best neighborhood to buy a house, I will take into account our three metrics in a specific order:\n",
    "1) **Crime Rate**, because nobody wants to feel unsafe in their home.\n",
    "2) **Number of Homes With Tax Delinquency**, this metric is important because as a broke college student buying a home that is in debt creates an opportunity for buying discounted homes during an auction.\n",
    "3) **Number of Parks in the Neighborhood**, because having a green space close to home has been proven to improve mental health.\n",
    "\n",
    "After taking into account these three variables it is clear that the best neighborhood to buy a house is Point Breeze. Located on the East End Point Breeze has a very low crime rate being 10x safer than the Downtown area. Point Breeze also has 120 homes that could be potentially sold for cheap at a auction making it a very attainable home. The icing on the cake is of corse it's proximity to parks, Point Breeze is has 7 parks within its border making it a very attractive neighborhood for buying a home. "
   ]
  },
  {
   "cell_type": "code",
   "execution_count": null,
   "id": "7e58a338-17e7-416f-9e33-1a9fab0e2adb",
   "metadata": {},
   "outputs": [],
   "source": []
  }
 ],
 "metadata": {
  "kernelspec": {
   "display_name": "Python 3 (ipykernel)",
   "language": "python",
   "name": "python3"
  },
  "language_info": {
   "codemirror_mode": {
    "name": "ipython",
    "version": 3
   },
   "file_extension": ".py",
   "mimetype": "text/x-python",
   "name": "python",
   "nbconvert_exporter": "python",
   "pygments_lexer": "ipython3",
   "version": "3.10.9"
  }
 },
 "nbformat": 4,
 "nbformat_minor": 5
}
