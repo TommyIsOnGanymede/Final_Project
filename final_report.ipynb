{
 "cells": [
  {
   "cell_type": "markdown",
   "metadata": {},
   "source": [
    "Metric: Best neighborhood in Pittsburgh to flip a house"
   ]
  },
  {
   "cell_type": "markdown",
   "metadata": {},
   "source": [
    "Introduction:\n",
    "    Our project examines the metric of the best neighborhood in Pittsburgh to flip a house. This means that we are examining the best neighborhood to buy a house for a low price in a good area and renovate it. To accomplish this, the datasets we used are tax delinquency, number of parks, and number of crimes. We chose these metrics because a house in a low crime neighborhood will be safer and in a good area, tax delinquent properties are cheaper, and neighborhoods that have more parks are associated with an increased quality of life and are an attractive point for future buyers. By combining these submetrics, we can find out which neighborhood has the lowest average price for houses and best area, which means that it would be the best neighborhood to flip a house in. "
   ]
  },
  {
   "cell_type": "markdown",
   "metadata": {},
   "source": [
    "Conclusion: Overall, the best neighborhood to flip a house based on the metrics of number of parks, number of crimes, and tax delinquency is Point Breeze. Point Breeze falls around 150 instances of tax delinquencies, which is on the lower end, however, you only need to buy 1 house in order to flip, so this should be plenty. The real selling point is the low crime rate, which is around 200 instances. These two factors make it an attractive neighborhood for house flippers. However, Point Breeze does fall on the lower side of number of parks, but not low enough to bump it from the #1 spot since it is located near Melon and Frick park, which is very large. "
   ]
  },
  {
   "cell_type": "markdown",
   "metadata": {},
   "source": [
    "Tommy's conclusion: In order to determine the best neighborhood to buy a house, I will take into account our three metrics in a specific order:\n",
    "1)Crime Rate, because nobody wants to feel unsafe in their home.\n",
    "2)Number of Homes With Tax Delinquency, this metric is important because as a broke college student, buying a home that is in debt creates an opportunity for buying discounted homes during an auction.\n",
    "3)Number of Parks in the Neighborhood, because having a green space close to home has been proven to improve mental health.\n",
    "\n",
    "After taking into account these three variables, it is clear that the best neighborhood to buy a house is Point Breeze. Located on the East End, Point Breeze has a very low crime rate, being 10x safer than the Downtown area. Point Breeze also has 120 homes that could potentially be sold for cheap at an auction, making it a very attainable option. The icing on the cake is, of course, its proximity to parks; Point Breeze has Frick Park within its borders, making it a very attractive neighborhood for buying a home."
   ]
  },
  {
   "cell_type": "markdown",
   "metadata": {},
   "source": [
    "Lauren's conclusion: Overall, Point Breeze being the best neighborhood is surprising to me, mostly because I'm not from Pittsburgh and am not very familiar with the area. My favorite neighborhood from my limited time at Pitt is probably Shadyside because I really like the overall vibe and food options. I've never been to Point Breeze so it is hard to compare, but based on the metrics, it seems like a nice area due to its location near Frick Park and relatively low crime rate. Based on the data, Shadyside is different from Point Breeze because it has a higher number of tax delinquencies and a higher number of crimes."
   ]
  }
 ],
 "metadata": {
  "kernelspec": {
   "display_name": "Python 3",
   "language": "python",
   "name": "python3"
  },
  "language_info": {
   "codemirror_mode": {
    "name": "ipython",
    "version": 3
   },
   "file_extension": ".py",
   "mimetype": "text/x-python",
   "name": "python",
   "nbconvert_exporter": "python",
   "pygments_lexer": "ipython3",
   "version": "3.8.3"
  }
 },
 "nbformat": 4,
 "nbformat_minor": 4
}
